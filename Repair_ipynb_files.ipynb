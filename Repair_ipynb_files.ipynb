{
  "nbformat": 4,
  "nbformat_minor": 0,
  "metadata": {
    "colab": {
      "provenance": []
    },
    "kernelspec": {
      "name": "python3",
      "display_name": "Python 3"
    },
    "language_info": {
      "name": "python"
    }
  },
  "cells": [
    {
      "cell_type": "code",
      "execution_count": null,
      "metadata": {
        "id": "9tGKjeJhdmYY"
      },
      "outputs": [],
      "source": []
    },
    {
      "cell_type": "code",
      "source": [],
      "metadata": {
        "id": "-t5lZWYPfVlU"
      },
      "execution_count": null,
      "outputs": []
    },
    {
      "cell_type": "code",
      "source": [],
      "metadata": {
        "id": "AGNwDUXufVoF"
      },
      "execution_count": null,
      "outputs": []
    },
    {
      "cell_type": "code",
      "source": [],
      "metadata": {
        "id": "9gMhZDULfVrC"
      },
      "execution_count": null,
      "outputs": []
    },
    {
      "cell_type": "code",
      "source": [
        "import os\n",
        "import nbformat\n",
        "\n",
        "def modify_notebook(file_path):\n",
        "    try:\n",
        "        # قراءة ملف الـ Notebook\n",
        "        with open(file_path, 'r', encoding='utf-8') as f:\n",
        "            notebook = nbformat.read(f, as_version=4)\n",
        "\n",
        "        # التحقق من وجود metadata.widgets\n",
        "        if 'widgets' in notebook.get('metadata', {}):\n",
        "            print(f\"Modifying widgets in: {file_path}\")\n",
        "            # حذف قسم widgets\n",
        "            del notebook['metadata']['widgets']\n",
        "\n",
        "        # حفظ التعديلات\n",
        "        with open(file_path, 'w', encoding='utf-8') as f:\n",
        "            nbformat.write(notebook, f)\n",
        "        print(f\"Modified and saved: {file_path}\")\n",
        "    except Exception as e:\n",
        "        print(f\"Error modifying {file_path}: {e}\")\n",
        "\n",
        "def modify_all_notebooks_in_directory(directory):\n",
        "    for root, _, files in os.walk(directory):\n",
        "        for file in files:\n",
        "            if file.endswith('.ipynb'):\n",
        "                file_path = os.path.join(root, file)\n",
        "                modify_notebook(file_path)\n",
        "\n",
        "if __name__ == \"__main__\":\n",
        "    # تحديد المسار إلى المجلد الذي يحتوي على ملفات Jupyter Notebook\n",
        "    directory = input(\"Enter the directory containing notebooks: \")\n",
        "    modify_all_notebooks_in_directory(directory)"
      ],
      "metadata": {
        "colab": {
          "base_uri": "https://localhost:8080/"
        },
        "id": "kpgxVgrzfVtq",
        "outputId": "077500e9-660a-4c16-836f-baa80dcdcd2c"
      },
      "execution_count": 1,
      "outputs": [
        {
          "output_type": "stream",
          "name": "stdout",
          "text": [
            "Enter the directory containing notebooks: /content\n",
            "Modifying widgets in: /content/Untitled120 (1).ipynb\n",
            "Modified and saved: /content/Untitled120 (1).ipynb\n",
            "Modifying widgets in: /content/Untitled120.ipynb\n",
            "Modified and saved: /content/Untitled120.ipynb\n"
          ]
        }
      ]
    }
  ]
}